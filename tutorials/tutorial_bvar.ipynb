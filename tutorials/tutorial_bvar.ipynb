{
 "cells": [
  {
   "cell_type": "markdown",
   "metadata": {},
   "source": [
    "# Bayesian VAR tutorial\n",
    "\n",
    "## 1. Simulated example"
   ]
  },
  {
   "cell_type": "code",
   "execution_count": null,
   "metadata": {},
   "outputs": [],
   "source": [
    "import numpy as np\n",
    "import pandas as pd\n",
    "np.random.seed(42)\n",
    "\n",
    "# Create quarterly datetime index\n",
    "dates = pd.date_range(start='1990-03-01', end='2019-12-01', freq='QS')\n",
    "T = len(dates)\n",
    "\n",
    "# True parameters\n",
    "A0 = np.array([1.5, -0.5])            # Constant terms\n",
    "A1 = np.array([[0.5, 0.2],\n",
    "               [0.1, 0.4]])           # Lag matrix\n",
    "Sigma = np.array([[0.1, 0.02],\n",
    "                  [0.02, 0.08]])      # Covariance of shocks\n",
    "\n",
    "# Initialize and simulate data\n",
    "Y = np.zeros((T, 2))\n",
    "Y[0] = [0, 0]  # initial value\n",
    "\n",
    "for t in range(1, T):\n",
    "    Y[t] = A0 + A1 @ Y[t - 1] + np.random.multivariate_normal([0, 0], Sigma)\n",
    "\n",
    "# Create DataFrame with datetime index\n",
    "df_sim = pd.DataFrame(Y, index=dates, columns=[\"y1\", \"y2\"])\n",
    "df_sim"
   ]
  },
  {
   "cell_type": "code",
   "execution_count": null,
   "metadata": {},
   "outputs": [],
   "source": [
    "from MacroPy import generate_series_plot\n",
    "\n",
    "generate_series_plot(df_sim, series_titles=[\"Variable 1\", \"Variable 2\"],)"
   ]
  },
  {
   "cell_type": "code",
   "execution_count": null,
   "metadata": {},
   "outputs": [],
   "source": [
    "from MacroPy import BayesianVAR\n",
    "\n",
    "bvar = BayesianVAR(df_sim, lags=1, hor=20, irf_1std=0, post_draws=500)\n",
    "bvar.model_summary()"
   ]
  },
  {
   "cell_type": "code",
   "execution_count": null,
   "metadata": {},
   "outputs": [],
   "source": [
    "bvar.sample_posterior(plot_coefficients=True)"
   ]
  }
 ],
 "metadata": {
  "kernelspec": {
   "display_name": ".venv",
   "language": "python",
   "name": "python3"
  },
  "language_info": {
   "codemirror_mode": {
    "name": "ipython",
    "version": 3
   },
   "file_extension": ".py",
   "mimetype": "text/x-python",
   "name": "python",
   "nbconvert_exporter": "python",
   "pygments_lexer": "ipython3",
   "version": "3.11.11"
  }
 },
 "nbformat": 4,
 "nbformat_minor": 2
}
